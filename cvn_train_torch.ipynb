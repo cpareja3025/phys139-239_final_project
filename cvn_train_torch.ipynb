{
 "cells": [
  {
   "cell_type": "code",
   "execution_count": 9,
   "metadata": {},
   "outputs": [],
   "source": [
    "import torch\n",
    "import torch.nn as nn\n",
    "import torch.nn.functional as F\n",
    "import torchvision\n",
    "import torchvision.transforms as transforms\n",
    "import matplotlib.pyplot as plt\n",
    "import numpy as np\n",
    "from torch.utils.data import DataLoader\n",
    "from torchinfo import summary"
   ]
  },
  {
   "cell_type": "code",
   "execution_count": 33,
   "metadata": {},
   "outputs": [],
   "source": [
    "# Hyper-Parameters\n",
    "epochs = 5\n",
    "batch_size = 20\n",
    "learning_rate = 0.001\n",
    "\n",
    "class Inception_Mod(nn.Module):\n",
    "    def __init__(self, prev_layer):\n",
    "        super(Inception_Mod, self).__init__()  \n",
    "        self.block1 = nn.Sequential(\n",
    "            nn.Conv2d(in_channels=prev_layer, out_channels=6, kernel_size=1)\n",
    "        )\n",
    "        self.block2 = nn.Sequential(\n",
    "            nn.Conv2d(in_channels=prev_layer, out_channels=6, kernel_size=1),\n",
    "            nn.Conv2d(in_channels=6, out_channels= 6, kernel_size=3, stride=1, padding=1)\n",
    "        )\n",
    "        self.block3 = nn.Sequential(\n",
    "            nn.Conv2d(in_channels=prev_layer, out_channels=6, kernel_size=1),\n",
    "            nn.Conv2d(in_channels=6, out_channels=6, kernel_size=5, padding = 2, stride=1)\n",
    "        )\n",
    "        self.block4 = nn.Sequential(\n",
    "            nn.MaxPool2d(kernel_size=3, stride=1),\n",
    "            nn.Conv2d(in_channels=prev_layer, out_channels=6,kernel_size=1, padding=1)\n",
    "        )\n",
    "        \n",
    "    def forward(self, x):\n",
    "        first_block = self.block1(x)\n",
    "        second_block = self.block2(x)\n",
    "        third_block = self.block3(x)\n",
    "        fourth_block = self.block4(x)\n",
    "\n",
    "        outputs_concat = torch.cat([first_block, second_block, third_block, fourth_block], dim =1)\n",
    "        return outputs_concat"
   ]
  },
  {
   "cell_type": "code",
   "execution_count": 36,
   "metadata": {},
   "outputs": [
    {
     "name": "stdout",
     "output_type": "stream",
     "text": [
      "torch.Size([1, 24, 256, 256])\n"
     ]
    }
   ],
   "source": [
    "hep_data = torch.randn(1,1, 256, 256)\n",
    "\n",
    "# model = Inception_Mod(6)\n",
    "# out = model()\n",
    "\n",
    "a = create_inceptionMod(hep_data)\n",
    "print(a.shape)"
   ]
  },
  {
   "cell_type": "code",
   "execution_count": 16,
   "metadata": {},
   "outputs": [],
   "source": [
    "def create_inceptionMod(prev_layer):\n",
    "        inception_mod = Inception_Mod(prev_layer.shape[1])\n",
    "        output = inception_mod(prev_layer)\n",
    "        return output\n",
    "\n",
    "def createBranches(data):\n",
    "        x_view = torch.unsqueeze(data[0], dim = 0)\n",
    "        y_view = torch.unsqueeze(data[1], dim = 0)\n",
    "        return x_view, y_view\n",
    "def mergeXY_views(x_view, y_view):\n",
    "        return torch.cat([x_view, y_view], dim=0)"
   ]
  },
  {
   "cell_type": "code",
   "execution_count": 12,
   "metadata": {},
   "outputs": [
    {
     "name": "stderr",
     "output_type": "stream",
     "text": [
      "[W NNPACK.cpp:79] Could not initialize NNPACK! Reason: Unsupported hardware.\n"
     ]
    }
   ],
   "source": [
    "device = torch.device('cuda' if torch.cuda.is_available() else 'cpu')\n",
    "\n",
    "# image size = 1 x256 x 256\n",
    "random_tensor = torch.randn(1, 1, 256, 256)\n",
    "\n",
    "class CVN_Net(nn.Module):\n",
    "    def __init__(self):\n",
    "        super(CVN_Net,self).__init__()\n",
    "        self.conv1 = nn.Conv2d(in_channels=1, out_channels=6,  kernel_size=7, stride=2)\n",
    "        self.max_pool = nn.MaxPool2d(kernel_size=3, stride = 2)        \n",
    "        self.lrn_norm = nn.LocalResponseNorm(size=5,  alpha=0.0001, beta=0.75)\n",
    "        self.conv2 = nn.Conv2d(in_channels=6, out_channels= 12, kernel_size=1)\n",
    "        self.conv3 = nn.Conv2d(in_channels=12, out_channels=6, kernel_size=3)\n",
    "\n",
    "    def forward(self, x):\n",
    "        x = F.relu(self.conv1(x))\n",
    "        x = self.max_pool(x)\n",
    "        x = self.lrn_norm(x)\n",
    "        x = F.relu(self.conv2(x))\n",
    "        x = F.relu(self.conv3(x))\n",
    "        x = self.lrn_norm(x)\n",
    "        x = self.max_pool(x)\n",
    "\n",
    "        inception_mod_output1 = create_inceptionMod(x)\n",
    "        inception_mod_output2 = create_inceptionMod(inception_mod_output1)\n",
    "        x = self.max_pool(inception_mod_output2)\n",
    "        inception_mod_output3 = create_inceptionMod(x)\n",
    "        return inception_mod_output3\n",
    "\n",
    "\n",
    "model = CVN_Net().to(device=device)\n",
    "output = model(random_tensor)"
   ]
  },
  {
   "cell_type": "code",
   "execution_count": 8,
   "metadata": {},
   "outputs": [
    {
     "data": {
      "text/plain": [
       "==========================================================================================\n",
       "Layer (type:depth-idx)                   Output Shape              Param #\n",
       "==========================================================================================\n",
       "CVN_Net                                  [64, 6, 14, 14]           --\n",
       "├─Conv2d: 1-1                            [1, 6, 125, 125]          300\n",
       "├─MaxPool2d: 1-2                         [1, 6, 62, 62]            --\n",
       "├─LocalResponseNorm: 1-3                 [1, 6, 62, 62]            --\n",
       "├─Conv2d: 1-4                            [1, 12, 62, 62]           84\n",
       "├─Conv2d: 1-5                            [1, 6, 60, 60]            654\n",
       "├─LocalResponseNorm: 1-6                 [1, 6, 60, 60]            --\n",
       "├─MaxPool2d: 1-7                         [1, 6, 29, 29]            --\n",
       "├─MaxPool2d: 1-8                         [16, 6, 14, 14]           --\n",
       "==========================================================================================\n",
       "Total params: 1,038\n",
       "Trainable params: 1,038\n",
       "Non-trainable params: 0\n",
       "Total mult-adds (M): 7.36\n",
       "==========================================================================================\n",
       "Input size (MB): 0.26\n",
       "Forward/backward pass size (MB): 1.29\n",
       "Params size (MB): 0.00\n",
       "Estimated Total Size (MB): 1.56\n",
       "=========================================================================================="
      ]
     },
     "execution_count": 8,
     "metadata": {},
     "output_type": "execute_result"
    }
   ],
   "source": [
    "summary(model, input_size=(1, 1,256,256))"
   ]
  },
  {
   "attachments": {},
   "cell_type": "markdown",
   "metadata": {},
   "source": [
    "## Testing entire Architecture"
   ]
  },
  {
   "cell_type": "code",
   "execution_count": 13,
   "metadata": {},
   "outputs": [
    {
     "name": "stdout",
     "output_type": "stream",
     "text": [
      "Shape of X_View Data: torch.Size([64, 6, 14, 14])\n",
      "Shape of Y_View Data: torch.Size([64, 6, 14, 14])\n",
      "torch.Size([128, 6, 14, 14])\n"
     ]
    }
   ],
   "source": [
    "hep_data = torch.randn(2,1, 256, 256)\n",
    "x_data, y_data = createBranches(hep_data)\n",
    "\n",
    "\n",
    "x_model = CVN_Net().to(device=device)\n",
    "y_model = CVN_Net().to(device=device)\n",
    "x_output = x_model(x_data)\n",
    "y_output = y_model(y_data)\n",
    "print(f'Shape of X_View Data: {x_output.shape}')\n",
    "print(f'Shape of Y_View Data: {y_output.shape}')\n",
    "concatXY_views = torch.concat([x_output, y_output], dim = 0)\n",
    "print(concatXY_views.shape)\n",
    "final_inception_output = create_inceptionMod(concatXY_views)\n",
    "# avg_pooling = nn.AvgPool2d(kernel_size=(6,5))\n",
    "# output = avg_pooling(final_inception_output)\n",
    "# softmax = nn.LogSoftmax(dim = 0)\n",
    "# output = softmax(output)"
   ]
  },
  {
   "attachments": {},
   "cell_type": "markdown",
   "metadata": {},
   "source": [
    "# Combining Torch Modules"
   ]
  },
  {
   "cell_type": "code",
   "execution_count": 37,
   "metadata": {},
   "outputs": [],
   "source": [
    "class Inception_Mod(nn.Module):\n",
    "    def __init__(self, prev_layer):\n",
    "        super(Inception_Mod, self).__init__()  \n",
    "        self.block1 = nn.Sequential(\n",
    "            nn.Conv2d(in_channels=prev_layer, out_channels=6, kernel_size=1)\n",
    "        )\n",
    "        self.block2 = nn.Sequential(\n",
    "            nn.Conv2d(in_channels=prev_layer, out_channels=6, kernel_size=1),\n",
    "            nn.Conv2d(in_channels=6, out_channels= 6, kernel_size=3, stride=1, padding=1)\n",
    "        )\n",
    "        self.block3 = nn.Sequential(\n",
    "            nn.Conv2d(in_channels=prev_layer, out_channels=6, kernel_size=1),\n",
    "            nn.Conv2d(in_channels=6, out_channels=6, kernel_size=5, padding = 2, stride=1)\n",
    "        )\n",
    "        self.block4 = nn.Sequential(\n",
    "            nn.MaxPool2d(kernel_size=3, stride=1),\n",
    "            nn.Conv2d(in_channels=prev_layer, out_channels=6,kernel_size=1, padding=1)\n",
    "        )\n",
    "        \n",
    "    def forward(self, x):\n",
    "        first_block = self.block1(x)\n",
    "        second_block = self.block2(x)\n",
    "        third_block = self.block3(x)\n",
    "        fourth_block = self.block4(x)\n",
    "\n",
    "        outputs_concat = torch.cat([first_block, second_block, third_block, fourth_block], dim  = 0)\n",
    "        return outputs_concat\n",
    "    \n",
    "class x_model(nn.Module):\n",
    "    def __init__(self):\n",
    "        super(x_model,self).__init__()\n",
    "        self.conv1 = nn.Conv2d(in_channels=1, out_channels=6,  kernel_size=7, stride=2)\n",
    "        self.max_pool = nn.MaxPool2d(kernel_size=3, stride = 2)        \n",
    "        self.lrn_norm = nn.LocalResponseNorm(size=5,  alpha=0.0001, beta=0.75)\n",
    "        self.conv2 = nn.Conv2d(in_channels=6, out_channels= 12, kernel_size=1)\n",
    "        self.conv3 = nn.Conv2d(in_channels=12, out_channels=6, kernel_size=3)\n",
    "        \n",
    "\n",
    "    def forward(self, x):\n",
    "        x = self.max_pool(F.relu(self.conv1(x)))\n",
    "        x = self.lrn_norm(x)\n",
    "        x = F.relu(self.conv2(x))\n",
    "        x = F.relu(self.conv3(x))\n",
    "        x = self.max_pool(self.lrn_norm(x))\n",
    "        x = Inception_Mod(x.shape[0])\n",
    "        x = Inception_Mod(x.shape[0])\n",
    "\n",
    "\n",
    "        return x\n",
    "class y_model(nn.Module):\n",
    "    def __init__(self):\n",
    "        super(y_model, self).__init__()\n",
    "        self.conv1 = nn.Conv2d(in_channels=1, out_channels=6,  kernel_size=7, stride=2)\n",
    "        self.max_pool = nn.MaxPool2d(kernel_size=3, stride = 2)        \n",
    "        self.lrn_norm = nn.LocalResponseNorm(size=5,  alpha=0.0001, beta=0.75)\n",
    "        self.conv2 = nn.Conv2d(in_channels=6, out_channels= 12, kernel_size=1)\n",
    "        self.conv3 = nn.Conv2d(in_channels=12, out_channels=6, kernel_size=3)\n",
    "    def forward(self, x):\n",
    "        x = self.max_pool(F.relu(self.conv1(x)))\n",
    "        x = self.lrn_norm(x)\n",
    "        x = F.relu(self.conv2(x))\n",
    "        x = F.relu(self.conv3(x))\n",
    "        x = self.max_pool(self.lrn_norm(x))\n",
    "\n",
    "        return x\n",
    "\n",
    "class combined_model(nn.Module):\n",
    "    def __init__(self):\n",
    "        super(combined_model, self).__init__()\n",
    "        self.model_x = x_model()\n",
    "        self.model_y = y_model()\n",
    "        self.combined_inception = Inception_Mod()\n",
    "        self.avg_pooling  = nn.AvgPool2d(kernel_size=(6,5))\n",
    "\n",
    "    def forward(self, x_data, y_data):\n",
    "        x_data = self.model_x(x_data)\n",
    "        y_data = self.model_y(y_data)\n",
    "\n",
    "        x = torch.cat((x_data, y_data), dim = 1)\n",
    "        x = self.combined_inception(x)\n",
    "        # Don't use softmax, the torch Cross Entropy function\n",
    "        # already uses softmax on the logits returned.\n",
    "        return x"
   ]
  },
  {
   "attachments": {},
   "cell_type": "markdown",
   "metadata": {},
   "source": [
    "# Adjustments with Paper Parameters"
   ]
  },
  {
   "cell_type": "code",
   "execution_count": 38,
   "metadata": {},
   "outputs": [],
   "source": [
    "class ConvBlock(nn.Module):\n",
    "    def __init__(self, in_channels, out_channels, **kwargs):\n",
    "        super(ConvBlock, self).__init__()\n",
    "        self.conv = nn.Conv2d(in_channels, out_channels, **kwargs)\n",
    "\n",
    "    def forward(self, x):\n",
    "        return F.relu(self.conv(x))"
   ]
  },
  {
   "cell_type": "code",
   "execution_count": 39,
   "metadata": {},
   "outputs": [],
   "source": [
    "class Inception_Block(nn.Module):\n",
    "    def __init__(\n",
    "            self,\n",
    "            in_channels,\n",
    "            output_1x1,\n",
    "            input_3x3,\n",
    "            output_3x3,\n",
    "            input_5x5,\n",
    "            output_5x5,\n",
    "            output_pool,\n",
    "    ):\n",
    "      super(Inception_Block, self).__init__()\n",
    "      self.branch1 = ConvBlock(in_channels, output_1x1, kernel_size = 1)\n",
    "      self.branch2 = nn.Sequential(\n",
    "            ConvBlock(in_channels, input_3x3, kernel_size = 1, padding = 0),\n",
    "            ConvBlock(input_3x3, output_3x3, kernel_size = 3, padding = 1)\n",
    "      )\n",
    "      self.branch3 = nn.Sequential(\n",
    "            ConvBlock(in_channels, input_5x5, kernel_size = 1),\n",
    "            ConvBlock(input_5x5, output_5x5, kernel_size = 5, padding = 2),\n",
    "      )\n",
    "      self.branch4 = nn.Sequential(\n",
    "            nn.MaxPool2d(kernel_size=3, stride=1),\n",
    "            ConvBlock(in_channels, output_pool, kernel_size = 1, padding = 1)\n",
    "      )\n",
    "\n",
    "      def forward(self, x):\n",
    "          first_block = self.branch1(x)\n",
    "          second_block = self.branch2(x)\n",
    "          third_block = self.branch3(x)\n",
    "          fourth_block = self.branch4(x)\n",
    "          output_concat = torch.cat([first_block, second_block, third_block, fourth_block], dim  = 1)\n",
    "\n",
    "          return output_concat\n",
    "         "
   ]
  },
  {
   "cell_type": "code",
   "execution_count": null,
   "metadata": {},
   "outputs": [],
   "source": []
  }
 ],
 "metadata": {
  "kernelspec": {
   "display_name": "myenv",
   "language": "python",
   "name": "python3"
  },
  "language_info": {
   "codemirror_mode": {
    "name": "ipython",
    "version": 3
   },
   "file_extension": ".py",
   "mimetype": "text/x-python",
   "name": "python",
   "nbconvert_exporter": "python",
   "pygments_lexer": "ipython3",
   "version": "3.9.7"
  },
  "orig_nbformat": 4,
  "vscode": {
   "interpreter": {
    "hash": "8a5edab282632443219e051e4ade2d1d5bbc671c781051bf1437897cbdfea0f1"
   }
  }
 },
 "nbformat": 4,
 "nbformat_minor": 2
}
