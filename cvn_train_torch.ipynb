{
 "cells": [
  {
   "cell_type": "code",
   "execution_count": 1,
   "metadata": {},
   "outputs": [],
   "source": [
    "import torch\n",
    "import torch.nn as nn\n",
    "import torch.nn.functional as F\n",
    "import torchvision\n",
    "import torchvision.transforms as transforms\n",
    "import matplotlib.pyplot as plt\n",
    "import numpy as np\n",
    "from torch.utils.data import DataLoader"
   ]
  },
  {
   "cell_type": "code",
   "execution_count": 3,
   "metadata": {},
   "outputs": [],
   "source": [
    "class Inception_Mod(nn.Module):\n",
    "    def __init__(self, prev_layer):\n",
    "        super(Inception_Mod, self).__init__()  \n",
    "        self.block1 = nn.Sequential(\n",
    "            nn.Conv2d(in_channels=prev_layer, out_channels=6, kernel_size=1)\n",
    "        )\n",
    "        self.block2 = nn.Sequential(\n",
    "            nn.Conv2d(in_channels=prev_layer, out_channels=6, kernel_size=1),\n",
    "            nn.Conv2d(in_channels=6, out_channels= 6, kernel_size=3, stride=1, padding=1)\n",
    "        )\n",
    "        self.block3 = nn.Sequential(\n",
    "            nn.Conv2d(in_channels=prev_layer, out_channels=6, kernel_size=1),\n",
    "            nn.Conv2d(in_channels=6, out_channels=6, kernel_size=5, padding = 2, stride=1)\n",
    "        )\n",
    "        self.block4 = nn.Sequential(\n",
    "            nn.MaxPool2d(kernel_size=3, stride=1),\n",
    "            nn.Conv2d(in_channels=prev_layer, out_channels=6,kernel_size=1, padding=1)\n",
    "        )\n",
    "        \n",
    "    def forward(self, x):\n",
    "        first_block = self.block1(x)\n",
    "        second_block = self.block2(x)\n",
    "        third_block = self.block3(x)\n",
    "        fourth_block = self.block4(x)\n",
    "\n",
    "        outputs_concat = torch.cat([first_block, second_block, third_block, fourth_block], dim  = 0)\n",
    "        return outputs_concat"
   ]
  },
  {
   "cell_type": "code",
   "execution_count": 5,
   "metadata": {},
   "outputs": [],
   "source": [
    "def create_inceptionMod(prev_layer):\n",
    "        inception_mod = Inception_Mod(prev_layer.shape[1])\n",
    "        output = inception_mod(prev_layer)\n",
    "        return output\n",
    "\n",
    "def createBranches(data):\n",
    "        x_view = torch.unsqueeze(data[0], dim = 0)\n",
    "        y_view = torch.unsqueeze(data[1], dim = 0)\n",
    "        return x_view, y_view\n",
    "def mergeXY_views(x_view, y_view):\n",
    "        return torch.cat([x_view, y_view], dim=0)"
   ]
  },
  {
   "cell_type": "code",
   "execution_count": 6,
   "metadata": {},
   "outputs": [
    {
     "name": "stdout",
     "output_type": "stream",
     "text": [
      "torch.Size([64, 6, 14, 14])\n"
     ]
    },
    {
     "name": "stderr",
     "output_type": "stream",
     "text": [
      "[W NNPACK.cpp:79] Could not initialize NNPACK! Reason: Unsupported hardware.\n"
     ]
    }
   ],
   "source": [
    "device = torch.device('cuda' if torch.cuda.is_available() else 'cpu')\n",
    "\n",
    "# image size = 1 x256 x 256\n",
    "random_tensor = torch.randn(1, 1, 256, 256)\n",
    "\n",
    "class CVN_Net(nn.Module):\n",
    "    def __init__(self):\n",
    "        super(CVN_Net,self).__init__()\n",
    "        self.conv1 = nn.Conv2d(in_channels=1, out_channels=6,  kernel_size=7, stride=2)\n",
    "        self.max_pool = nn.MaxPool2d(kernel_size=3, stride = 2)        \n",
    "        self.lrn_norm = nn.LocalResponseNorm(size=5,  alpha=0.0001, beta=0.75)\n",
    "        self.conv2 = nn.Conv2d(in_channels=6, out_channels= 12, kernel_size=1)\n",
    "        self.conv3 = nn.Conv2d(in_channels=12, out_channels=6, kernel_size=3)\n",
    "\n",
    "    def forward(self, x):\n",
    "        x = F.relu(self.conv1(x))\n",
    "        x = self.max_pool(x)\n",
    "        x = self.lrn_norm(x)\n",
    "        x = F.relu(self.conv2(x))\n",
    "        x = F.relu(self.conv3(x))\n",
    "        x = self.lrn_norm(x)\n",
    "        x = self.max_pool(x)\n",
    "\n",
    "        inception_mod_output1 = create_inceptionMod(x)\n",
    "        inception_mod_output2 = create_inceptionMod(inception_mod_output1)\n",
    "        x = self.max_pool(inception_mod_output2)\n",
    "        inception_mod_output3 = create_inceptionMod(x)\n",
    "        return inception_mod_output3\n",
    "\n",
    "\n",
    "model = CVN_Net().to(device=device)\n",
    "output = model(random_tensor)\n",
    "\n",
    "print(output.shape)"
   ]
  },
  {
   "attachments": {},
   "cell_type": "markdown",
   "metadata": {},
   "source": [
    "## Testing entire Architecture"
   ]
  },
  {
   "cell_type": "code",
   "execution_count": 7,
   "metadata": {},
   "outputs": [
    {
     "name": "stdout",
     "output_type": "stream",
     "text": [
      "Shape of X_View Data: torch.Size([64, 6, 14, 14])\n",
      "Shape of Y_View Data: torch.Size([64, 6, 14, 14])\n",
      "torch.Size([128, 6, 14, 14])\n"
     ]
    }
   ],
   "source": [
    "hep_data = torch.randn(2,1, 256, 256)\n",
    "x_data, y_data = createBranches(hep_data)\n",
    "\n",
    "\n",
    "x_model = CVN_Net().to(device=device)\n",
    "y_model = CVN_Net().to(device=device)\n",
    "x_output = x_model(x_data)\n",
    "y_output = y_model(y_data)\n",
    "print(f'Shape of X_View Data: {x_output.shape}')\n",
    "print(f'Shape of Y_View Data: {y_output.shape}')\n",
    "concatXY_views = torch.concat([x_output, y_output], dim = 0)\n",
    "print(concatXY_views.shape)\n",
    "final_inception_output = create_inceptionMod(concatXY_views)\n",
    "avg_pooling = nn.AvgPool2d(kernel_size=(6,5))\n",
    "output = avg_pooling(final_inception_output)\n",
    "softmax = nn.LogSoftmax(dim = 0)\n",
    "output = softmax(output)"
   ]
  }
 ],
 "metadata": {
  "kernelspec": {
   "display_name": "myenv",
   "language": "python",
   "name": "python3"
  },
  "language_info": {
   "codemirror_mode": {
    "name": "ipython",
    "version": 3
   },
   "file_extension": ".py",
   "mimetype": "text/x-python",
   "name": "python",
   "nbconvert_exporter": "python",
   "pygments_lexer": "ipython3",
   "version": "3.9.7"
  },
  "orig_nbformat": 4,
  "vscode": {
   "interpreter": {
    "hash": "778ce5d35af1dda3b7990d3b1b584fe8bd02fd4e1fafa51f18e59d98f620d5dc"
   }
  }
 },
 "nbformat": 4,
 "nbformat_minor": 2
}
