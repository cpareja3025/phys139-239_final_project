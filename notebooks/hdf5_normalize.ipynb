{
 "cells": [
  {
   "cell_type": "code",
   "execution_count": 1,
   "id": "f725d640",
   "metadata": {},
   "outputs": [],
   "source": [
    "import uproot\n",
    "import awkward as ak"
   ]
  },
  {
   "cell_type": "code",
   "execution_count": 2,
   "id": "6eaaf3bf",
   "metadata": {},
   "outputs": [],
   "source": [
    "from tqdm import tqdm\n",
    "import numpy as np\n",
    "import matplotlib.pyplot as plt\n",
    "%matplotlib inline"
   ]
  },
  {
   "cell_type": "code",
   "execution_count": 3,
   "id": "4f4e8c19",
   "metadata": {},
   "outputs": [],
   "source": [
    "from pathlib import Path\n",
    "import h5py\n",
    "\n",
    "### set I/O path\n",
    "data_dir = Path.cwd().parent.joinpath('data')\n",
    "root_dir = data_dir.joinpath('root')\n",
    "h5_dir = data_dir.joinpath('hdf5')\n",
    "h5_dir.mkdir(parents=True, exist_ok=True)\n",
    "\n",
    "root_train_path = root_dir.joinpath('train_50k.root')\n",
    "root_test_path = root_dir.joinpath('test_40k.root')\n",
    "h5_train_path = h5_dir.joinpath('train.h5')\n",
    "h5_test_path = h5_dir.joinpath('test.h5')\n",
    "\n",
    "h_norm_train_path = h5_dir.joinpath('train_norm.h5')\n",
    "h_norm_test_path = h5_dir.joinpath('test_norm.h5')"
   ]
  },
  {
   "cell_type": "code",
   "execution_count": 4,
   "id": "5abab91e",
   "metadata": {},
   "outputs": [],
   "source": [
    "def npy2h5(h5, N, x_name, x_npy, y_name, y_npy):\n",
    "    with h5py.File(h5, 'a') as hf:\n",
    "        if x_name not in hf.keys():\n",
    "            hf.create_dataset(x_name, (N, 3, 256, 256), maxshape=(None,3,256,256), dtype='f', chunks=True)\n",
    "            hf[x_name][-x_npy.shape[0]:] = x_npy\n",
    "        else:\n",
    "            hf[x_name].resize((hf[x_name].shape[0] + x_npy.shape[0]), axis = 0)\n",
    "            hf[x_name][-x_npy.shape[0]:] = x_npy\n",
    "        \n",
    "        if y_name not in hf.keys():\n",
    "            hf.create_dataset(y_name, (N,5), maxshape=(None,5), dtype='f', chunks=True)\n",
    "            hf[y_name][-y_npy.shape[0]:] = y_npy\n",
    "        else:\n",
    "            hf[y_name].resize((hf[y_name].shape[0] + y_npy.shape[0]), axis = 0)\n",
    "            hf[y_name][-y_npy.shape[0]:] = y_npy\n",
    "    return"
   ]
  },
  {
   "cell_type": "code",
   "execution_count": 5,
   "id": "e4506bfd",
   "metadata": {},
   "outputs": [],
   "source": [
    "mean = 0.37174486416699054\n",
    "std = 4439.282558540287"
   ]
  },
  {
   "cell_type": "code",
   "execution_count": 6,
   "id": "147a54e5",
   "metadata": {
    "scrolled": false
   },
   "outputs": [
    {
     "name": "stdout",
     "output_type": "stream",
     "text": [
      "(46865, 3, 256, 256) (46865, 5)\n"
     ]
    }
   ],
   "source": [
    "h_train = h5py.File(h5_train_path)\n",
    "print(h_train['X_train'].shape, h_train['y_train'].shape)"
   ]
  },
  {
   "cell_type": "code",
   "execution_count": 7,
   "id": "81bb9e52",
   "metadata": {},
   "outputs": [],
   "source": [
    "N_train = 46865"
   ]
  },
  {
   "cell_type": "code",
   "execution_count": 14,
   "id": "6a676f21",
   "metadata": {},
   "outputs": [
    {
     "name": "stderr",
     "output_type": "stream",
     "text": [
      "100%|██████████| 20/20 [03:24<00:00, 10.21s/it]\n"
     ]
    }
   ],
   "source": [
    "N_loop = 20\n",
    "interval = int(N_train/N_loop)\n",
    "N_processed = 0\n",
    "\n",
    "for i in tqdm(range(N_loop)):\n",
    "    start = interval*i\n",
    "    end = start + np.min([interval, N_train-N_processed])\n",
    "\n",
    "    X = (h_train['X_train'][start:end]-mean)/std\n",
    "    y = h_train['y_train'][start:end]\n",
    "    \n",
    "    N_proccessed_per_it = end-start\n",
    "    \n",
    "    npy2h5(h_norm_train_path, N_proccessed_per_it, 'X_train', X, 'y_train', y)\n",
    "    N_processed += (end-start)"
   ]
  },
  {
   "cell_type": "code",
   "execution_count": 6,
   "id": "4c7a29bc",
   "metadata": {},
   "outputs": [
    {
     "name": "stdout",
     "output_type": "stream",
     "text": [
      "(37523, 3, 256, 256) (37523, 5)\n"
     ]
    }
   ],
   "source": [
    "h_test = h5py.File(h5_test_path)\n",
    "print(h_test['X_test'].shape, h_test['y_test'].shape)"
   ]
  },
  {
   "cell_type": "code",
   "execution_count": 7,
   "id": "ef0fa219",
   "metadata": {},
   "outputs": [],
   "source": [
    "N_test = 37523"
   ]
  },
  {
   "cell_type": "code",
   "execution_count": 8,
   "id": "0eb35807",
   "metadata": {},
   "outputs": [
    {
     "name": "stderr",
     "output_type": "stream",
     "text": [
      "100%|██████████| 20/20 [03:11<00:00,  9.59s/it]\n"
     ]
    }
   ],
   "source": [
    "N_loop = 20\n",
    "interval = int(N_test/N_loop)\n",
    "N_processed = 0\n",
    "\n",
    "for i in tqdm(range(N_loop)):\n",
    "    start = interval*i\n",
    "    end = start + np.min([interval, N_test-N_processed])\n",
    "\n",
    "    X = (h_test['X_test'][start:end]-mean)/std\n",
    "    y = h_test['y_test'][start:end]\n",
    "    \n",
    "    N_proccessed_per_it = end-start\n",
    "    \n",
    "    npy2h5(h_norm_test_path, N_proccessed_per_it, 'X_test', X, 'y_test', y)\n",
    "    N_processed += (end-start)"
   ]
  },
  {
   "cell_type": "code",
   "execution_count": null,
   "id": "acf382b0",
   "metadata": {},
   "outputs": [],
   "source": []
  }
 ],
 "metadata": {
  "kernelspec": {
   "display_name": "Python 3 (ipykernel)",
   "language": "python",
   "name": "python3"
  },
  "language_info": {
   "codemirror_mode": {
    "name": "ipython",
    "version": 3
   },
   "file_extension": ".py",
   "mimetype": "text/x-python",
   "name": "python",
   "nbconvert_exporter": "python",
   "pygments_lexer": "ipython3",
   "version": "3.9.5"
  }
 },
 "nbformat": 4,
 "nbformat_minor": 5
}
