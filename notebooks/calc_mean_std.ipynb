{
 "cells": [
  {
   "cell_type": "code",
   "execution_count": 1,
   "id": "f725d640",
   "metadata": {},
   "outputs": [],
   "source": [
    "import uproot\n",
    "import awkward as ak"
   ]
  },
  {
   "cell_type": "code",
   "execution_count": 2,
   "id": "6eaaf3bf",
   "metadata": {},
   "outputs": [],
   "source": [
    "from tqdm import tqdm\n",
    "import numpy as np\n",
    "import matplotlib.pyplot as plt\n",
    "%matplotlib inline"
   ]
  },
  {
   "cell_type": "code",
   "execution_count": 3,
   "id": "4f4e8c19",
   "metadata": {},
   "outputs": [],
   "source": [
    "from pathlib import Path\n",
    "import h5py\n",
    "\n",
    "### set I/O path\n",
    "data_dir = Path.cwd().parent.joinpath('data')\n",
    "root_dir = data_dir.joinpath('root')\n",
    "h5_dir = data_dir.joinpath('hdf5')\n",
    "h5_dir.mkdir(parents=True, exist_ok=True)\n",
    "\n",
    "root_train_path = root_dir.joinpath('train_50k.root')\n",
    "root_test_path = root_dir.joinpath('test_40k.root')\n",
    "h5_train_path = h5_dir.joinpath('train.h5')\n",
    "h5_test_path = h5_dir.joinpath('test_small.h5')"
   ]
  },
  {
   "cell_type": "code",
   "execution_count": 4,
   "id": "147a54e5",
   "metadata": {
    "scrolled": false
   },
   "outputs": [
    {
     "data": {
      "text/html": [
       "<pre>[[11]]\n",
       "---------------------\n",
       "type: 1 * var * int32</pre>"
      ],
      "text/plain": [
       "<Array [[11]] type='1 * var * int32'>"
      ]
     },
     "execution_count": 4,
     "metadata": {},
     "output_type": "execute_result"
    }
   ],
   "source": [
    "f = uproot.open(root_train_path)\n",
    "f['particle_mctruth_tree'].arrays('_part_v._pdg', entry_stop=1)['_part_v._pdg']"
   ]
  },
  {
   "cell_type": "code",
   "execution_count": 7,
   "id": "cec46798",
   "metadata": {},
   "outputs": [
    {
     "name": "stderr",
     "output_type": "stream",
     "text": [
      "100%|███████████████████████████████████████████████████████████████████████████████████████████████████████████████████████████████████████████████████████████████████████████████████| 5/5 [07:05<00:00, 85.00s/it]\n"
     ]
    }
   ],
   "source": [
    "avgs = []\n",
    "for i in tqdm(range(5)):\n",
    "    intv = 10000\n",
    "    start = i*intv\n",
    "    ak_img = f[\"image2d_data_tree\"].arrays(\"_image_v._img\",  entry_start=start, entry_stop=start+intv)[\"_image_v._img\"]\n",
    "    avgs.append(ak.mean(ak_img))\n",
    "avg = np.mean(avgs)"
   ]
  },
  {
   "cell_type": "code",
   "execution_count": 8,
   "id": "49ba2882",
   "metadata": {},
   "outputs": [
    {
     "name": "stdout",
     "output_type": "stream",
     "text": [
      "0.37174486416699054\n"
     ]
    }
   ],
   "source": [
    "print(avg)"
   ]
  },
  {
   "cell_type": "code",
   "execution_count": 14,
   "id": "ad3eeb63",
   "metadata": {},
   "outputs": [
    {
     "name": "stderr",
     "output_type": "stream",
     "text": [
      "100%|███████████████████████████████████████████████████████████████████████████████████████████████████████████████████████████████████████████████████████████████████████████████████| 5/5 [07:05<00:00, 85.18s/it]\n"
     ]
    }
   ],
   "source": [
    "diffs_squared = []\n",
    "for i in tqdm(range(5)):\n",
    "    intv = 10000\n",
    "    start = i*intv\n",
    "    ak_img = f[\"image2d_data_tree\"].arrays(\"_image_v._img\",  entry_start=start, entry_stop=start+intv)[\"_image_v._img\"]\n",
    "    diffs = ak_img-avg\n",
    "    diffs_squared.append(np.sum(np.power(diffs, 2)))\n",
    "    \n",
    "std = np.sqrt(np.sum(diffs_squared)/50000)"
   ]
  },
  {
   "cell_type": "code",
   "execution_count": 15,
   "id": "c5f77056",
   "metadata": {},
   "outputs": [
    {
     "name": "stdout",
     "output_type": "stream",
     "text": [
      "4439.282558540287\n"
     ]
    }
   ],
   "source": [
    "print(std)"
   ]
  }
 ],
 "metadata": {
  "kernelspec": {
   "display_name": "Python 3 (ipykernel)",
   "language": "python",
   "name": "python3"
  },
  "language_info": {
   "codemirror_mode": {
    "name": "ipython",
    "version": 3
   },
   "file_extension": ".py",
   "mimetype": "text/x-python",
   "name": "python",
   "nbconvert_exporter": "python",
   "pygments_lexer": "ipython3",
   "version": "3.7.12"
  }
 },
 "nbformat": 4,
 "nbformat_minor": 5
}
