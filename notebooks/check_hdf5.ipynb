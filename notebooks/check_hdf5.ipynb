{
 "cells": [
  {
   "cell_type": "code",
   "execution_count": 1,
   "id": "78bd42ce",
   "metadata": {},
   "outputs": [],
   "source": [
    "from pathlib import Path"
   ]
  },
  {
   "cell_type": "code",
   "execution_count": 2,
   "id": "159bf806",
   "metadata": {},
   "outputs": [],
   "source": [
    "import numpy as np\n",
    "import matplotlib.pyplot as plt\n",
    "import h5py"
   ]
  },
  {
   "cell_type": "code",
   "execution_count": 3,
   "id": "2bc1724b",
   "metadata": {},
   "outputs": [],
   "source": [
    "### set I/O path\n",
    "data_dir = Path.cwd().parent.joinpath('data')\n",
    "root_dir = data_dir.joinpath('root')\n",
    "h5_dir = data_dir.joinpath('hdf5')\n",
    "h5_dir.mkdir(parents=True, exist_ok=True)\n",
    "\n",
    "root_train_path = root_dir.joinpath('train_50k.root')\n",
    "root_test_path = root_dir.joinpath('test_40k.root')\n",
    "h5_train_path = h5_dir.joinpath('train.h5')\n",
    "h5_test_path = h5_dir.joinpath('test.h5')"
   ]
  },
  {
   "cell_type": "code",
   "execution_count": 4,
   "id": "d85e65d8",
   "metadata": {},
   "outputs": [
    {
     "name": "stdout",
     "output_type": "stream",
     "text": [
      "<KeysViewHDF5 ['X_train', 'y_train']>\n",
      "46865\n",
      "46865\n",
      "(46865, 3, 256, 256)\n"
     ]
    }
   ],
   "source": [
    "with h5py.File(h5_train_path, \"r\") as f:\n",
    "    print(f.keys())\n",
    "    print(len(f['X_train']))\n",
    "    print(len(f['y_train']))\n",
    "    print(f['X_train'].shape)"
   ]
  },
  {
   "cell_type": "code",
   "execution_count": null,
   "id": "672dec28",
   "metadata": {},
   "outputs": [],
   "source": []
  }
 ],
 "metadata": {
  "kernelspec": {
   "display_name": "Python 3 (ipykernel)",
   "language": "python",
   "name": "python3"
  },
  "language_info": {
   "codemirror_mode": {
    "name": "ipython",
    "version": 3
   },
   "file_extension": ".py",
   "mimetype": "text/x-python",
   "name": "python",
   "nbconvert_exporter": "python",
   "pygments_lexer": "ipython3",
   "version": "3.9.5"
  }
 },
 "nbformat": 4,
 "nbformat_minor": 5
}
