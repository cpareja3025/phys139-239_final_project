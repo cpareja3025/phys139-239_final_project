{
 "cells": [
  {
   "cell_type": "code",
   "execution_count": 1,
   "id": "bd54feb1",
   "metadata": {},
   "outputs": [
    {
     "name": "stdout",
     "output_type": "stream",
     "text": [
      "Welcome to JupyROOT 6.26/08\n"
     ]
    }
   ],
   "source": [
    "from __future__ import print_function\n",
    "import ROOT\n",
    "from ROOT import TChain\n",
    "from larcv import larcv"
   ]
  },
  {
   "cell_type": "code",
   "execution_count": 2,
   "id": "c0b970a8",
   "metadata": {},
   "outputs": [],
   "source": [
    "from tqdm import tqdm\n",
    "import numpy as np\n",
    "import matplotlib.pyplot as plt\n",
    "%matplotlib inline"
   ]
  },
  {
   "cell_type": "code",
   "execution_count": 3,
   "id": "e661b761",
   "metadata": {},
   "outputs": [
    {
     "name": "stdout",
     "output_type": "stream",
     "text": [
      "TFile**\t\t../data/root/test_40k.root\t\n",
      " TFile*\t\t../data/root/test_40k.root\t\n",
      "  KEY: TTree\timage2d_data_tree;1\tdata tree\n",
      "  KEY: TTree\tparticle_mctruth_tree;1\tmctruth tree\n"
     ]
    }
   ],
   "source": [
    "ROOT.TFile.Open('../data/root/test_40k.root').ls()"
   ]
  },
  {
   "cell_type": "code",
   "execution_count": 4,
   "id": "b61a4ad4",
   "metadata": {},
   "outputs": [
    {
     "name": "stdout",
     "output_type": "stream",
     "text": [
      "40000 entries found!\n",
      "Object type: <cppyy.gbl.larcv.EventImage2D object at 0x55c7fa6c3d20>\n"
     ]
    },
    {
     "data": {
      "image/png": "[encoded data removed]",
      "text/plain": [
       "<Figure size 1200x400 with 3 Axes>"
      ]
     },
     "metadata": {},
     "output_type": "display_data"
    }
   ],
   "source": [
    "from larcv import larcv\n",
    "\n",
    "# Create TChain, count # of entries\n",
    "chain_image2d = ROOT.TChain('image2d_data_tree')\n",
    "chain_image2d.AddFile('../data/root/test_40k.root')\n",
    "print(chain_image2d.GetEntries(),'entries found!')\n",
    "\n",
    "# Get a specific event (first entry)\n",
    "chain_image2d.GetEntry(0)\n",
    "cpp_object = chain_image2d.image2d_data_branch\n",
    "print('Object type:',cpp_object)\n",
    "\n",
    "# Get std::vector<larcv::Image2D>\n",
    "image2d_array = cpp_object.as_vector()\n",
    "# Dump images\n",
    "fig, axes = plt.subplots(1, image2d_array.size(), figsize=(12,4), facecolor='w')\n",
    "for index,image2d in enumerate(image2d_array):\n",
    "    image2d_numpy = larcv.as_ndarray(image2d)\n",
    "    axes[index].imshow(image2d_numpy, interpolation='none',cmap='jet')\n",
    "    # Find bounds for non-zero pixels + padding of 5 pixels\n",
    "    nz_pixels=np.where(image2d_numpy>0.0)\n",
    "    ylim = (np.min(nz_pixels[0])-5,np.max(nz_pixels[0])+5)\n",
    "    xlim = (np.min(nz_pixels[1])-5,np.max(nz_pixels[1])+5)\n",
    "    # Adjust for allowed image range\n",
    "    ylim = (np.max((ylim[0],0)), np.min((ylim[1],image2d_numpy.shape[1]-1)))\n",
    "    xlim = (np.max((xlim[0],0)), np.min((xlim[1],image2d_numpy.shape[0]-1)))\n",
    "    # Set range\n",
    "    axes[index].set_ylim(ylim)\n",
    "    axes[index].set_xlim(xlim)\n",
    "plt.show()"
   ]
  },
  {
   "cell_type": "code",
   "execution_count": 5,
   "id": "a5fe01bc",
   "metadata": {},
   "outputs": [
    {
     "name": "stdout",
     "output_type": "stream",
     "text": [
      "40000 entries found!\n",
      "Object type: <cppyy.gbl.larcv.EventParticle object at 0x55c7fb15aa20>\n",
      "\n",
      "Checking particle information for 1st entry...\n",
      "PDG Code: 11\n",
      "Initial energy: 0.138 GeV\n"
     ]
    }
   ],
   "source": [
    "# Create TChain, count # of entries\n",
    "chain_particle = ROOT.TChain('particle_mctruth_tree')\n",
    "chain_particle.AddFile('../data/root/test_40k.root')\n",
    "print(chain_image2d.GetEntries(),'entries found!')\n",
    "\n",
    "# Get a specific event (first entry)\n",
    "chain_particle.GetEntry(0)\n",
    "cpp_object = chain_particle.particle_mctruth_branch\n",
    "print('Object type: {}\\n'.format(str(cpp_object)))\n",
    "\n",
    "# Dump particle information\n",
    "print('Checking particle information for 1st entry...')\n",
    "for particle in cpp_object.as_vector():\n",
    "    print('PDG Code: {}'.format(particle.pdg_code()))\n",
    "    print('Initial energy: {:.3} GeV'.format(particle.energy_init()))"
   ]
  },
  {
   "cell_type": "markdown",
   "id": "a9783b61",
   "metadata": {},
   "source": [
    "### What is the shape of each image?"
   ]
  },
  {
   "cell_type": "code",
   "execution_count": 6,
   "id": "446412be",
   "metadata": {},
   "outputs": [
    {
     "name": "stdout",
     "output_type": "stream",
     "text": [
      "(256, 256)\n",
      "(256, 256)\n",
      "(256, 256)\n"
     ]
    }
   ],
   "source": [
    "# Get a specific event (first entry)\n",
    "chain_image2d.GetEntry(1)\n",
    "cpp_object = chain_image2d.image2d_data_branch\n",
    "\n",
    "# Get std::vector<larcv::Image2D>\n",
    "image2d_array = cpp_object.as_vector()\n",
    "\n",
    "for index,image2d in enumerate(image2d_array):\n",
    "    image2d_numpy = larcv.as_ndarray(image2d)\n",
    "    print(image2d_numpy.shape)"
   ]
  },
  {
   "cell_type": "markdown",
   "id": "2cf8738c",
   "metadata": {},
   "source": [
    "### How many images are in each events?"
   ]
  },
  {
   "cell_type": "code",
   "execution_count": 10,
   "id": "ebd4e11d",
   "metadata": {},
   "outputs": [
    {
     "name": "stdout",
     "output_type": "stream",
     "text": [
      "50000\n"
     ]
    },
    {
     "name": "stderr",
     "output_type": "stream",
     "text": [
      "100%|███████████████████████████████████████████████| 50000/50000 [00:28<00:00, 1748.78it/s]\n"
     ]
    }
   ],
   "source": [
    "# training data\n",
    "chain_image2d_train = ROOT.TChain('image2d_data_tree')\n",
    "chain_image2d_train.AddFile('../data/root/train_50k.root')\n",
    "N_train = chain_image2d_train.GetEntries()\n",
    "print(N_train)\n",
    "X = np.zeros(shape=(N_train, 3, 256, 256), dtype=float)\n",
    "\n",
    "events = {}\n",
    "N_images = np.zeros(shape=(N_train, 1), dtype=float)\n",
    "\n",
    "for i in tqdm(range(N_train)):\n",
    "    chain_image2d_train.GetEntry(i)\n",
    "    cpp_object = chain_image2d_train.image2d_data_branch\n",
    "    image2d_array = cpp_object.as_vector()\n",
    "    N_image = image2d_array.size()\n",
    "    N_images[i] = N_image\n",
    "    \n",
    "    if N_image not in events.keys():\n",
    "        events[N_image] = [i]\n",
    "    else:\n",
    "        events[N_image].append(i)"
   ]
  },
  {
   "cell_type": "code",
   "execution_count": 11,
   "id": "6e1de235",
   "metadata": {},
   "outputs": [
    {
     "data": {
      "text/plain": [
       "[]"
      ]
     },
     "execution_count": 11,
     "metadata": {},
     "output_type": "execute_result"
    },
    {
     "data": {
      "image/png": "[encoded data removed]",
      "text/plain": [
       "<Figure size 640x480 with 1 Axes>"
      ]
     },
     "metadata": {},
     "output_type": "display_data"
    }
   ],
   "source": [
    "plt.hist(N_images, bins=20)\n",
    "plt.plot()"
   ]
  },
  {
   "cell_type": "code",
   "execution_count": 12,
   "id": "118749e0",
   "metadata": {},
   "outputs": [
    {
     "name": "stdout",
     "output_type": "stream",
     "text": [
      "dict_keys([3, 6, 9, 12, 15, 18, 27, 21])\n"
     ]
    }
   ],
   "source": [
    "print(events.keys())"
   ]
  },
  {
   "cell_type": "markdown",
   "id": "f4a5f00c",
   "metadata": {},
   "source": [
    "### How many particles are in those events that have Nx3 images"
   ]
  },
  {
   "cell_type": "code",
   "execution_count": 13,
   "id": "88f24f97",
   "metadata": {},
   "outputs": [
    {
     "name": "stdout",
     "output_type": "stream",
     "text": [
      "50000 entries found!\n",
      "[11, 22, 13, 211, 2212]\n"
     ]
    }
   ],
   "source": [
    "chain_particle_train = ROOT.TChain('particle_mctruth_tree')\n",
    "chain_particle_train.AddFile('../data/root/train_50k.root')\n",
    "print(chain_image2d_train.GetEntries(),'entries found!')\n",
    "\n",
    "pdgIds = []\n",
    "for i in events[3]:\n",
    "    chain_particle_train.GetEntry(i)\n",
    "    cpp_object = chain_particle_train.particle_mctruth_branch\n",
    "    for index, particle in enumerate(cpp_object.as_vector()):\n",
    "        if index!=0:    \n",
    "            print('Initial energy: {:.3} GeV'.format(particle.energy_init()))\n",
    "        else:\n",
    "            if particle.pdg_code() not in pdgIds:\n",
    "                pdgIds.append(particle.pdg_code())\n",
    "\n",
    "print(pdgIds)"
   ]
  },
  {
   "cell_type": "markdown",
   "id": "7a553d6b",
   "metadata": {},
   "source": [
    "### Are those Nx3 images the same?"
   ]
  },
  {
   "cell_type": "code",
   "execution_count": 14,
   "id": "a9de5dfb",
   "metadata": {},
   "outputs": [
    {
     "name": "stdout",
     "output_type": "stream",
     "text": [
      "Object type: <cppyy.gbl.larcv.EventImage2D object at 0x55c7fb4d9c70>\n"
     ]
    },
    {
     "data": {
      "image/png": "[encoded data removed]",
      "text/plain": [
       "<Figure size 1200x400 with 9 Axes>"
      ]
     },
     "metadata": {},
     "output_type": "display_data"
    }
   ],
   "source": [
    "num_images = 9\n",
    "event = events[num_images][4] # pick a event\n",
    "\n",
    "chain_image2d_train.GetEntry(event)\n",
    "cpp_object = chain_image2d_train.image2d_data_branch\n",
    "print('Object type:',cpp_object)\n",
    "\n",
    "# Get std::vector<larcv::Image2D>\n",
    "image2d_array = cpp_object.as_vector()\n",
    "# Dump images\n",
    "fig, axes = plt.subplots(1, image2d_array.size(), figsize=(12,4), facecolor='w')\n",
    "for index,image2d in enumerate(image2d_array):\n",
    "    image2d_numpy = larcv.as_ndarray(image2d)\n",
    "    axes[index].imshow(image2d_numpy, interpolation='none',cmap='jet')\n",
    "    # Find bounds for non-zero pixels + padding of 5 pixels\n",
    "    nz_pixels=np.where(image2d_numpy>0.0)\n",
    "    ylim = (np.min(nz_pixels[0])-5,np.max(nz_pixels[0])+5)\n",
    "    xlim = (np.min(nz_pixels[1])-5,np.max(nz_pixels[1])+5)\n",
    "    # Adjust for allowed image range\n",
    "    ylim = (np.max((ylim[0],0)), np.min((ylim[1],image2d_numpy.shape[1]-1)))\n",
    "    xlim = (np.max((xlim[0],0)), np.min((xlim[1],image2d_numpy.shape[0]-1)))\n",
    "    # Set range\n",
    "    axes[index].set_ylim(ylim)\n",
    "    axes[index].set_xlim(xlim)\n",
    "plt.show()"
   ]
  },
  {
   "cell_type": "markdown",
   "id": "e8066ec2",
   "metadata": {},
   "source": [
    "### Make input data"
   ]
  },
  {
   "cell_type": "code",
   "execution_count": 3,
   "id": "df2dc09f",
   "metadata": {},
   "outputs": [],
   "source": [
    "from pathlib import Path\n",
    "\n",
    "### set I/O path\n",
    "data_dir = Path.cwd().parent.joinpath('data')\n",
    "root_dir = data_dir.joinpath('root')\n",
    "np_dir = data_dir.joinpath('numpy')\n",
    "\n",
    "root_train_path = root_dir.joinpath('train_50k.root')\n",
    "root_test_path = root_dir.joinpath('test_40k.root')\n",
    "X_train_path = np_dir.joinpath('X_train.npy')\n",
    "X_test_path = np_dir.joinpath('X_test.npy')\n",
    "Y_train_path = np_dir.joinpath('Y_train.npy')\n",
    "Y_test_path = np_dir.joinpath('Y_test.npy')"
   ]
  },
  {
   "cell_type": "code",
   "execution_count": 4,
   "id": "7592ab2b",
   "metadata": {},
   "outputs": [],
   "source": [
    "### make training/test set using events of only 3 images\n",
    "# X_train/X_test\n",
    "chain_image2d_train = ROOT.TChain('image2d_data_tree')\n",
    "chain_image2d_train.AddFile(str(root_train_path))\n",
    "N_train = chain_image2d_train.GetEntries()\n",
    "X_train = []\n",
    "\n",
    "chain_image2d_test = ROOT.TChain('image2d_data_tree')\n",
    "chain_image2d_test.AddFile(str(root_test_path))\n",
    "N_test = chain_image2d_test.GetEntries()\n",
    "X_test = []"
   ]
  },
  {
   "cell_type": "code",
   "execution_count": null,
   "id": "27d61449",
   "metadata": {},
   "outputs": [
    {
     "name": "stderr",
     "output_type": "stream",
     "text": [
      " 62%|████████████████████████████████████████████████████████████████████████████████████████████████████████                                                                 | 30804/50000 [00:34<00:57, 331.07it/s]"
     ]
    }
   ],
   "source": [
    "for i in tqdm(range(N_train)):\n",
    "    chain_image2d_train.GetEntry(i)\n",
    "    cpp_object = chain_image2d_train.image2d_data_branch\n",
    "    image2d_array = cpp_object.as_vector()\n",
    "    N_image = image2d_array.size()\n",
    "    \n",
    "    if N_image == 3:\n",
    "        image2d_numpy = np.zeros(shape=(3, 256, 256), dtype=float)\n",
    "        for view, image2d in enumerate(image2d_array):\n",
    "            image2d_numpy[view] = larcv.as_ndarray(image2d)\n",
    "        X_train.append(image2d_numpy)\n",
    "\n",
    "   \n",
    "        \n",
    "X_train = np.array(X_train, dtype=float)\n",
    "print(X_train.shape)\n",
    "np.save(X_train_path, X_train)"
   ]
  },
  {
   "cell_type": "code",
   "execution_count": null,
   "id": "7af41739",
   "metadata": {},
   "outputs": [],
   "source": [
    "for i in tqdm(range(N_test)):\n",
    "    chain_image2d_test.GetEntry(i)\n",
    "    cpp_object = chain_image2d_test.image2d_data_branch\n",
    "    image2d_array = cpp_object.as_vector()\n",
    "    N_image = image2d_array.size()\n",
    "    \n",
    "    if N_image == 3:\n",
    "        image2d_numpy = np.zeros(shape=(3, 256, 256), dtype=float)\n",
    "        for view, image2d in enumerate(image2d_array):\n",
    "            image2d_numpy[view] = larcv.as_ndarray(image2d)\n",
    "        X_test.append(image2d_numpy)     \n",
    "        \n",
    "X_test = np.array(X_test, dtype=float)\n",
    "print(X_test.shape)\n",
    "np.save(X_test_path, X_test)"
   ]
  },
  {
   "cell_type": "markdown",
   "id": "fd337a82",
   "metadata": {},
   "source": [
    "### Make target data"
   ]
  },
  {
   "cell_type": "code",
   "execution_count": 10,
   "id": "6cbc18cf",
   "metadata": {},
   "outputs": [
    {
     "name": "stderr",
     "output_type": "stream",
     "text": [
      "100%|█████████████████████████████████████████████| 50000/50000 [00:00<00:00, 178143.69it/s]\n",
      "100%|█████████████████████████████████████████████| 40000/40000 [00:00<00:00, 182871.49it/s]\n"
     ]
    },
    {
     "name": "stdout",
     "output_type": "stream",
     "text": [
      "(50000, 5)\n",
      "(40000, 5)\n"
     ]
    }
   ],
   "source": [
    "# Y_train/Y_test\n",
    "\n",
    "# look-up table\n",
    "pdgId2vec = {}\n",
    "pdgId2vec[11] = np.array([1,0,0,0,0], dtype=float)\n",
    "pdgId2vec[13] = np.array([0,1,0,0,0], dtype=float)\n",
    "pdgId2vec[22] = np.array([0,0,1,0,0], dtype=float)\n",
    "pdgId2vec[211] = np.array([0,0,0,1,0], dtype=float)\n",
    "pdgId2vec[2212] = np.array([0,0,0,0,1], dtype=float)\n",
    "\n",
    "chain_particle_train = ROOT.TChain('particle_mctruth_tree')\n",
    "chain_particle_train.AddFile(str(root_train_path))\n",
    "Y_train = []\n",
    "\n",
    "chain_particle_test = ROOT.TChain('particle_mctruth_tree')\n",
    "chain_particle_test.AddFile(str(root_test_path))\n",
    "Y_test = []\n",
    "                           \n",
    "for i in tqdm(range(N_train)):\n",
    "    chain_particle_train.GetEntry(i)\n",
    "    cpp_object = chain_particle_train.particle_mctruth_branch\n",
    "    for index, particle in enumerate(cpp_object.as_vector()):\n",
    "        if index!=0:    \n",
    "            print(f'Event {i} has more than 1 events! Wrong dataset?')\n",
    "        else:\n",
    "            pdgId = particle.pdg_code()\n",
    "            Y_train.append(pdgId2vec[pdgId])\n",
    "            \n",
    "for i in tqdm(range(N_test)):\n",
    "    chain_particle_test.GetEntry(i)\n",
    "    cpp_object = chain_particle_test.particle_mctruth_branch\n",
    "    for index, particle in enumerate(cpp_object.as_vector()):\n",
    "        if index!=0:    \n",
    "            print(f'Event {i} has more than 1 events! Wrong dataset?')\n",
    "        else:\n",
    "            pdgId = particle.pdg_code()\n",
    "            Y_test.append(pdgId2vec[pdgId])\n",
    "            \n",
    "Y_train = np.array(Y_train, dtype=float)\n",
    "Y_test = np.array(Y_test, dtype=float)\n",
    "print(Y_train.shape)\n",
    "print(Y_test.shape)\n",
    "np.save(Y_train_path, Y_train)\n",
    "np.save(Y_test_path, Y_test)"
   ]
  },
  {
   "cell_type": "code",
   "execution_count": null,
   "id": "1189e6e2",
   "metadata": {},
   "outputs": [],
   "source": []
  }
 ],
 "metadata": {
  "kernelspec": {
   "display_name": "Python 3 (ipykernel)",
   "language": "python",
   "name": "python3"
  },
  "language_info": {
   "codemirror_mode": {
    "name": "ipython",
    "version": 3
   },
   "file_extension": ".py",
   "mimetype": "text/x-python",
   "name": "python",
   "nbconvert_exporter": "python",
   "pygments_lexer": "ipython3",
   "version": "3.7.12"
  }
 },
 "nbformat": 4,
 "nbformat_minor": 5
}
