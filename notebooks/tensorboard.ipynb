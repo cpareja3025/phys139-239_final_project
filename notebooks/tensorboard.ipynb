{
 "cells": [
  {
   "cell_type": "code",
   "execution_count": 1,
   "id": "dd10e5b8",
   "metadata": {},
   "outputs": [],
   "source": [
    "import random\n",
    "import h5py\n",
    "from pathlib import Path"
   ]
  },
  {
   "cell_type": "code",
   "execution_count": 2,
   "id": "914a3d9f",
   "metadata": {},
   "outputs": [],
   "source": [
    "import numpy as np\n",
    "import matplotlib.pyplot as plt"
   ]
  },
  {
   "cell_type": "code",
   "execution_count": 3,
   "id": "fa7a99dc",
   "metadata": {},
   "outputs": [],
   "source": [
    "### set I/O path\n",
    "project_dir = Path.cwd().parent.resolve()\n",
    "\n",
    "data_dir = project_dir.joinpath('data')\n",
    "h5_dir = data_dir.joinpath('hdf5')\n",
    "h5_train_path = h5_dir.joinpath('train.h5')\n",
    "h5_test_path = h5_dir.joinpath('test.h5')\n",
    "\n",
    "log_dir = project_dir.joinpath('logs').joinpath('resnet50')\n",
    "model_dir = project_dir.joinpath('models').joinpath('resnet50')"
   ]
  },
  {
   "cell_type": "code",
   "execution_count": 4,
   "id": "3bbc17c6",
   "metadata": {},
   "outputs": [
    {
     "name": "stdout",
     "output_type": "stream",
     "text": [
      "/home/hal113/teams/group-8/phys139-239_final_project/logs/resnet50\n"
     ]
    }
   ],
   "source": [
    "print(log_dir)"
   ]
  },
  {
   "cell_type": "code",
   "execution_count": 5,
   "id": "9cea3d33",
   "metadata": {},
   "outputs": [
    {
     "data": {
      "text/html": [
       "\n",
       "      <iframe id=\"tensorboard-frame-badf1ee1042d8d08\" width=\"100%\" height=\"800\" frameborder=\"0\">\n",
       "      </iframe>\n",
       "      <script>\n",
       "        (function() {\n",
       "          const frame = document.getElementById(\"tensorboard-frame-badf1ee1042d8d08\");\n",
       "          const url = new URL(\"/\", window.location);\n",
       "          const port = 6006;\n",
       "          if (port) {\n",
       "            url.port = port;\n",
       "          }\n",
       "          frame.src = url;\n",
       "        })();\n",
       "      </script>\n",
       "    "
      ],
      "text/plain": [
       "<IPython.core.display.HTML object>"
      ]
     },
     "metadata": {},
     "output_type": "display_data"
    }
   ],
   "source": [
    "%load_ext tensorboard\n",
    "%tensorboard --logdir /home/hal113/teams/group-8/phys139-239_final_project/logs/resnet50"
   ]
  },
  {
   "cell_type": "code",
   "execution_count": null,
   "id": "d861e57b",
   "metadata": {},
   "outputs": [],
   "source": []
  }
 ],
 "metadata": {
  "kernelspec": {
   "display_name": "Python 3 (ipykernel)",
   "language": "python",
   "name": "python3"
  },
  "language_info": {
   "codemirror_mode": {
    "name": "ipython",
    "version": 3
   },
   "file_extension": ".py",
   "mimetype": "text/x-python",
   "name": "python",
   "nbconvert_exporter": "python",
   "pygments_lexer": "ipython3",
   "version": "3.9.5"
  }
 },
 "nbformat": 4,
 "nbformat_minor": 5
}
