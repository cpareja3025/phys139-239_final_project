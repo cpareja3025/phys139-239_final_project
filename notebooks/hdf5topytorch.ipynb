{
 "cells": [
  {
   "cell_type": "code",
   "execution_count": 8,
   "metadata": {},
   "outputs": [],
   "source": [
    "import torch\n",
    "import numpy as np\n",
    "from torch.utils.data import DataLoader\n",
    "from torch.utils.data import Dataset\n",
    "import h5py\n",
    "\n",
    "#Dataset for hdf5 in torch based on lazy loading described here https://vict0rs.ch/2021/06/15/pytorch-h5/\n",
    "\n",
    "\n",
    "class hdf5Dataset(Dataset):\n",
    "    def __init__(self, h5_path, x_name, y_name):\n",
    "        super().__init__()\n",
    "        self.h5_path = h5_path\n",
    "        self._data = None\n",
    "        self.x_name = x_name\n",
    "        self.y_name = y_name\n",
    "\n",
    "    @property\n",
    "    def data(self):\n",
    "        if self._data is None:\n",
    "            self._data = h5py.File(self.h5_path, \"r\")\n",
    "        return self._data       \n",
    "\n",
    "    def __getitem__(self, index):\n",
    "        return self.data[self.x_name][index], self.data[self.y_name][index]\n",
    "\n",
    "    def __len__(self):\n",
    "        return len(self.data[self.x_name])        "
   ]
  },
  {
   "cell_type": "code",
   "execution_count": 3,
   "metadata": {},
   "outputs": [],
   "source": [
    "#Test with created dataset\n",
    "N = 500\n",
    "x_name = \"train_x\"\n",
    "y_name = \"train_y\"\n",
    "x_npy = np.random.rand(N, 3, 256, 256)\n",
    "y_npy = np.random.rand(N, 5)\n",
    "with h5py.File(\"mytestfile.hdf5\", \"a\") as hf:\n",
    "    if x_name not in hf.keys():\n",
    "        hf.create_dataset(x_name, (N, 3, 256, 256), maxshape=(None,3,256,256), dtype='f', chunks=True)\n",
    "        hf[x_name][-x_npy.shape[0]:] = x_npy\n",
    "    if y_name not in hf.keys():\n",
    "        hf.create_dataset(y_name, (N,5), maxshape=(None,5), dtype='f', chunks=True)\n",
    "        hf[y_name][-y_npy.shape[0]:] = y_npy\n",
    "        "
   ]
  },
  {
   "cell_type": "code",
   "execution_count": 9,
   "metadata": {},
   "outputs": [
    {
     "name": "stdout",
     "output_type": "stream",
     "text": [
      "torch.Size([5, 3, 256, 256])\n",
      "torch.Size([5, 5])\n"
     ]
    }
   ],
   "source": [
    "loader = DataLoader(hdf5Dataset(\"mytestfile.hdf5\", \"train_x\", \"train_y\"), batch_size=5)\n",
    "images, labels = next(iter(loader))\n",
    "print(images.shape)\n",
    "print(labels.shape)\n",
    "\n"
   ]
  }
 ],
 "metadata": {
  "kernelspec": {
   "display_name": "phys239",
   "language": "python",
   "name": "python3"
  },
  "language_info": {
   "codemirror_mode": {
    "name": "ipython",
    "version": 3
   },
   "file_extension": ".py",
   "mimetype": "text/x-python",
   "name": "python",
   "nbconvert_exporter": "python",
   "pygments_lexer": "ipython3",
   "version": "3.7.16"
  },
  "orig_nbformat": 4,
  "vscode": {
   "interpreter": {
    "hash": "40945f59164f951fbeb7e1d3d03248c7ad5a5606c20a4aafb86abe23878c3406"
   }
  }
 },
 "nbformat": 4,
 "nbformat_minor": 2
}
