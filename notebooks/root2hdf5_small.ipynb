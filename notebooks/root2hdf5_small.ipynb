{
 "cells": [
  {
   "cell_type": "code",
   "execution_count": 1,
   "id": "f725d640",
   "metadata": {},
   "outputs": [],
   "source": [
    "import uproot\n",
    "import awkward as ak"
   ]
  },
  {
   "cell_type": "code",
   "execution_count": 2,
   "id": "6eaaf3bf",
   "metadata": {},
   "outputs": [],
   "source": [
    "from tqdm import tqdm\n",
    "import numpy as np\n",
    "import matplotlib.pyplot as plt\n",
    "%matplotlib inline"
   ]
  },
  {
   "cell_type": "code",
   "execution_count": 3,
   "id": "4f4e8c19",
   "metadata": {},
   "outputs": [],
   "source": [
    "from pathlib import Path\n",
    "import h5py\n",
    "\n",
    "### set I/O path\n",
    "data_dir = Path.cwd().parent.joinpath('data')\n",
    "root_dir = data_dir.joinpath('root')\n",
    "h5_dir = data_dir.joinpath('hdf5')\n",
    "h5_dir.mkdir(parents=True, exist_ok=True)\n",
    "\n",
    "root_train_path = root_dir.joinpath('train_50k.root')\n",
    "root_test_path = root_dir.joinpath('test_40k.root')\n",
    "h5_train_path = h5_dir.joinpath('train_small.h5')\n",
    "h5_test_path = h5_dir.joinpath('test_small.h5')"
   ]
  },
  {
   "cell_type": "code",
   "execution_count": 4,
   "id": "147a54e5",
   "metadata": {},
   "outputs": [
    {
     "data": {
      "text/plain": [
       "<Array [[11]] type='1 * var * int32'>"
      ]
     },
     "execution_count": 4,
     "metadata": {},
     "output_type": "execute_result"
    }
   ],
   "source": [
    "f = uproot.open(root_train_path)\n",
    "f['particle_mctruth_tree'].arrays('_part_v._pdg', entry_stop=1)['_part_v._pdg']"
   ]
  },
  {
   "cell_type": "code",
   "execution_count": 5,
   "id": "98714834",
   "metadata": {},
   "outputs": [],
   "source": [
    "# look-up table\n",
    "pdgId2vec = {}\n",
    "pdgId2vec[11] = np.array([1,0,0,0,0], dtype=float)\n",
    "pdgId2vec[13] = np.array([0,1,0,0,0], dtype=float)\n",
    "pdgId2vec[22] = np.array([0,0,1,0,0], dtype=float)\n",
    "pdgId2vec[211] = np.array([0,0,0,1,0], dtype=float)\n",
    "pdgId2vec[2212] = np.array([0,0,0,0,1], dtype=float)"
   ]
  },
  {
   "cell_type": "code",
   "execution_count": 6,
   "id": "b65beb15",
   "metadata": {},
   "outputs": [],
   "source": [
    "def root2npy(fpath, N, start=0, interval=1000):\n",
    "    intv = interval\n",
    "    \n",
    "    f = uproot.open(fpath)\n",
    "    result_img, result_target = [], []\n",
    "    \n",
    "    for i in tqdm(range(int(N/intv))):\n",
    "        entry_start = start+i*intv\n",
    "        entry_stop = entry_start+intv\n",
    "        ak_img = f[\"image2d_data_tree\"].arrays(\"_image_v._img\", entry_start=entry_start, entry_stop=entry_stop)[\"_image_v._img\"]\n",
    "        ak_target = f['particle_mctruth_tree'].arrays('_part_v._pdg', entry_start=entry_start, entry_stop=entry_stop)['_part_v._pdg']\n",
    "        \n",
    "        mask = ak.count(ak_img, 1)==3\n",
    "        mask = ak.all(mask, -1)\n",
    "        ak_img = ak_img[mask]\n",
    "        ak_target = ak_target[mask]\n",
    "        \n",
    "        np_img = ak.to_numpy(ak_img)\n",
    "        np_img = np_img.reshape(-1, 3, 256, 256)\n",
    "        np_target = ak.to_numpy(ak_target).reshape(-1)\n",
    "        np_target = np.array([pdgId2vec[pdgId] for pdgId in np_target], dtype=float)\n",
    "        \n",
    "        result_img.append(np_img)\n",
    "        result_target.append(np_target)\n",
    "    \n",
    "    result_img = np.concatenate(result_img, axis=0)\n",
    "    result_target = np.concatenate(result_target, axis=0)\n",
    "    \n",
    "    return result_img, result_target"
   ]
  },
  {
   "cell_type": "code",
   "execution_count": 7,
   "id": "828480ea",
   "metadata": {},
   "outputs": [],
   "source": [
    "# test = root2npy(root_train_path, N=2000, start=0, interval=1000)\n"
   ]
  },
  {
   "cell_type": "code",
   "execution_count": 8,
   "id": "64441e66",
   "metadata": {},
   "outputs": [],
   "source": [
    "def npy2h5(h5, N, x_name, x_npy, y_name, y_npy):\n",
    "    with h5py.File(h5, 'a') as hf:\n",
    "        if x_name not in hf.keys():\n",
    "            hf.create_dataset(x_name, (N, 3, 256, 256), maxshape=(None,3,256,256), dtype='f', chunks=True)\n",
    "            hf[x_name][-x_npy.shape[0]:] = x_npy\n",
    "        else:\n",
    "            hf[x_name].resize((hf[x_name].shape[0] + x_npy.shape[0]), axis = 0)\n",
    "            hf[x_name][-x_npy.shape[0]:] = x_npy\n",
    "        \n",
    "        if y_name not in hf.keys():\n",
    "            hf.create_dataset(y_name, (N,5), maxshape=(None,5), dtype='f', chunks=True)\n",
    "            hf[y_name][-y_npy.shape[0]:] = y_npy\n",
    "        else:\n",
    "            hf[y_name].resize((hf[y_name].shape[0] + y_npy.shape[0]), axis = 0)\n",
    "            hf[y_name][-y_npy.shape[0]:] = y_npy\n",
    "    return"
   ]
  },
  {
   "cell_type": "code",
   "execution_count": 9,
   "id": "a63b3d23",
   "metadata": {},
   "outputs": [
    {
     "name": "stderr",
     "output_type": "stream",
     "text": [
      "100%|███████████████████████████████████████████████████████████████████████████████████████████████████████████████████████████████████████████████████████████████████████████████| 10/10 [17:27<00:00, 104.78s/it]\n",
      "100%|███████████████████████████████████████████████████████████████████████████████████████████████████████████████████████████████████████████████████████████████████████████████| 10/10 [17:46<00:00, 106.66s/it]\n",
      "100%|███████████████████████████████████████████████████████████████████████████████████████████████████████████████████████████████████████████████████████████████████████████████| 10/10 [17:35<00:00, 105.58s/it]\n",
      "100%|███████████████████████████████████████████████████████████████████████████████████████████████████████████████████████████████████████████████████████████████████████████████| 10/10 [17:32<00:00, 105.20s/it]\n",
      "100%|███████████████████████████████████████████████████████████████████████████████████████████████████████████████████████████████████████████████████████████████████████████████| 10/10 [25:09<00:00, 150.96s/it]\n"
     ]
    }
   ],
   "source": [
    "Path.unlink(h5_train_path, missing_ok=True)\n",
    "for i in range(5):\n",
    "    interval = 1000\n",
    "    start = i*10000\n",
    "    X, y = root2npy(root_train_path, N=interval, start=start, interval=100)\n",
    "    npy2h5(h5_train_path, interval, 'X_train', X, 'y_train', y)"
   ]
  },
  {
   "cell_type": "code",
   "execution_count": 10,
   "id": "ed54ac57",
   "metadata": {},
   "outputs": [
    {
     "name": "stderr",
     "output_type": "stream",
     "text": [
      "100%|███████████████████████████████████████████████████████████████████████████████████████████████████████████████████████████████████████████████████████████████████████████████| 10/10 [17:31<00:00, 105.18s/it]\n",
      "100%|███████████████████████████████████████████████████████████████████████████████████████████████████████████████████████████████████████████████████████████████████████████████| 10/10 [17:53<00:00, 107.39s/it]\n",
      "100%|███████████████████████████████████████████████████████████████████████████████████████████████████████████████████████████████████████████████████████████████████████████████| 10/10 [17:32<00:00, 105.23s/it]\n",
      "100%|███████████████████████████████████████████████████████████████████████████████████████████████████████████████████████████████████████████████████████████████████████████████| 10/10 [17:35<00:00, 105.54s/it]\n"
     ]
    }
   ],
   "source": [
    "Path.unlink(h5_test_path, missing_ok=True)\n",
    "for i in range(4):\n",
    "    interval = 1000\n",
    "    start = i*10000\n",
    "    X, y = root2npy(root_test_path, N=interval, start=start, interval=100)\n",
    "    npy2h5(h5_test_path, interval, 'X_test', X, 'y_test', y)"
   ]
  },
  {
   "cell_type": "code",
   "execution_count": null,
   "id": "975f7f9d",
   "metadata": {},
   "outputs": [],
   "source": []
  }
 ],
 "metadata": {
  "kernelspec": {
   "display_name": "Python 3 (ipykernel)",
   "language": "python",
   "name": "python3"
  },
  "language_info": {
   "codemirror_mode": {
    "name": "ipython",
    "version": 3
   },
   "file_extension": ".py",
   "mimetype": "text/x-python",
   "name": "python",
   "nbconvert_exporter": "python",
   "pygments_lexer": "ipython3",
   "version": "3.9.13"
  }
 },
 "nbformat": 4,
 "nbformat_minor": 5
}
