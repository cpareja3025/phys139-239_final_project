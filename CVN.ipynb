{
 "cells": [
  {
   "cell_type": "code",
   "execution_count": 12,
   "metadata": {},
   "outputs": [],
   "source": [
    "import torch\n",
    "import torch.nn as nn\n",
    "import torch.nn.functional as F\n",
    "import torchvision\n",
    "import torchvision.transforms as transforms\n",
    "import matplotlib.pyplot as plt\n",
    "import numpy as np\n",
    "from torch.utils.data import DataLoader\n",
    "from torchinfo import summary"
   ]
  },
  {
   "cell_type": "code",
   "execution_count": 11,
   "metadata": {},
   "outputs": [],
   "source": [
    "class ConvBlock(nn.Module):\n",
    "    def __init__(self, in_channels, out_channels, **kwargs):\n",
    "        super(ConvBlock, self).__init__()\n",
    "        self.conv = nn.Conv2d(in_channels, out_channels, **kwargs)\n",
    "\n",
    "    def forward(self, x):\n",
    "        return F.relu(self.conv(x))"
   ]
  },
  {
   "cell_type": "code",
   "execution_count": 10,
   "metadata": {},
   "outputs": [],
   "source": [
    "class Inception_Block(nn.Module):\n",
    "    def __init__(\n",
    "            self,\n",
    "            in_channels,\n",
    "            output_1x1,\n",
    "            output_1x1_block2,\n",
    "            output_3x3,\n",
    "            output_5x5_reduce,\n",
    "            output_5x5,\n",
    "            output_pool,\n",
    "    ):\n",
    "            super(Inception_Block, self).__init__()\n",
    "            self.branch1 = ConvBlock(in_channels, output_1x1, kernel_size = 1)\n",
    "            self.branch2 = nn.Sequential(\n",
    "            ConvBlock(in_channels, out_channels = output_1x1_block2, kernel_size = 1),\n",
    "            ConvBlock(output_1x1_block2, output_3x3, kernel_size = 3, padding = 1)\n",
    "            )\n",
    "            self.branch3 = nn.Sequential(\n",
    "                  ConvBlock(in_channels, out_channels = output_5x5_reduce, kernel_size = 1),\n",
    "                  ConvBlock(in_channels= output_5x5_reduce, out_channels=output_5x5, kernel_size = 5, padding = 2),\n",
    "            )\n",
    "            self.branch4 = nn.Sequential(\n",
    "                  nn.MaxPool2d(kernel_size=3, stride=1, padding=1),\n",
    "                  ConvBlock(in_channels, output_pool, kernel_size = 1)\n",
    "            )\n",
    "    def forward(self, x):\n",
    "          first_block = self.branch1(x)\n",
    "          second_block = self.branch2(x)\n",
    "          third_block = self.branch3(x)\n",
    "          fourth_block = self.branch4(x)\n",
    "          output_concat = torch.cat([first_block, second_block, third_block, fourth_block], dim  = 1)\n",
    "\n",
    "          return output_concat\n",
    "         "
   ]
  },
  {
   "cell_type": "code",
   "execution_count": 34,
   "metadata": {},
   "outputs": [],
   "source": [
    "class x_model(nn.Module):\n",
    "    def __init__(self):\n",
    "        super(x_model,self).__init__()\n",
    "        self.conv_7x7 = nn.Conv2d(in_channels=1, out_channels=6,  kernel_size=7, stride=2)\n",
    "        self.max_pool = nn.MaxPool2d(kernel_size=3, stride = 2)        \n",
    "        self.lrn_norm = nn.LocalResponseNorm(size=5,  alpha=0.0001, beta=0.75)\n",
    "        self.conv_1x1 = nn.Conv2d(in_channels=6, out_channels= 12, kernel_size=1)\n",
    "        self.conv3_3x3 = nn.Conv2d(in_channels=12, out_channels=6, kernel_size=3)\n",
    "        self.inception3a = Inception_Block(in_channels=6,output_1x1=64, output_1x1_block2=96, output_3x3=128, output_5x5_reduce=16, output_5x5= 32, output_pool=32)\n",
    "        self.inception3b = Inception_Block(in_channels=256,output_1x1=64, output_1x1_block2=96, output_3x3=128, output_5x5_reduce=16, output_5x5= 32, output_pool=32)\n",
    "        self.inception4a = Inception_Block(in_channels=256,output_1x1=64, output_1x1_block2=96, output_3x3=128, output_5x5_reduce=16, output_5x5= 32, output_pool=32)\n",
    "        \n",
    "\n",
    "    def forward(self, x):\n",
    "        x = self.max_pool(F.relu(self.conv_7x7(x)))\n",
    "        x = self.lrn_norm(x)\n",
    "        x = F.relu(self.conv_1x1(x))\n",
    "        x = F.relu(self.conv3_3x3(x))\n",
    "        x = self.max_pool(self.lrn_norm(x))\n",
    "        x = self.inception3a(x)\n",
    "        x = self.inception3b(x)\n",
    "        x = self.max_pool(x)\n",
    "        x = self.inception4a(x)\n",
    "        return x"
   ]
  },
  {
   "attachments": {},
   "cell_type": "markdown",
   "metadata": {},
   "source": [
    "## Testing Dimensions of Inception Network and X_model"
   ]
  },
  {
   "cell_type": "code",
   "execution_count": 35,
   "metadata": {},
   "outputs": [
    {
     "data": {
      "text/plain": [
       "torch.Size([1, 256, 14, 14])"
      ]
     },
     "execution_count": 35,
     "metadata": {},
     "output_type": "execute_result"
    }
   ],
   "source": [
    "hep_data = torch.randn(1,1, 256, 256)\n",
    "model_x = x_model()\n",
    "output = model_x(hep_data)\n",
    "output.shape"
   ]
  },
  {
   "cell_type": "code",
   "execution_count": 36,
   "metadata": {},
   "outputs": [
    {
     "data": {
      "text/plain": [
       "==========================================================================================\n",
       "Layer (type:depth-idx)                   Output Shape              Param #\n",
       "==========================================================================================\n",
       "x_model                                  [1, 256, 14, 14]          --\n",
       "├─Conv2d: 1-1                            [1, 6, 125, 125]          300\n",
       "├─MaxPool2d: 1-2                         [1, 6, 62, 62]            --\n",
       "├─LocalResponseNorm: 1-3                 [1, 6, 62, 62]            --\n",
       "├─Conv2d: 1-4                            [1, 12, 62, 62]           84\n",
       "├─Conv2d: 1-5                            [1, 6, 60, 60]            654\n",
       "├─LocalResponseNorm: 1-6                 [1, 6, 60, 60]            --\n",
       "├─MaxPool2d: 1-7                         [1, 6, 29, 29]            --\n",
       "├─Inception_Block: 1-8                   [1, 256, 29, 29]          --\n",
       "│    └─ConvBlock: 2-1                    [1, 64, 29, 29]           --\n",
       "│    │    └─Conv2d: 3-1                  [1, 64, 29, 29]           448\n",
       "│    └─Sequential: 2-2                   [1, 128, 29, 29]          --\n",
       "│    │    └─ConvBlock: 3-2               [1, 96, 29, 29]           672\n",
       "│    │    └─ConvBlock: 3-3               [1, 128, 29, 29]          110,720\n",
       "│    └─Sequential: 2-3                   [1, 32, 29, 29]           --\n",
       "│    │    └─ConvBlock: 3-4               [1, 16, 29, 29]           112\n",
       "│    │    └─ConvBlock: 3-5               [1, 32, 29, 29]           12,832\n",
       "│    └─Sequential: 2-4                   [1, 32, 29, 29]           --\n",
       "│    │    └─MaxPool2d: 3-6               [1, 6, 29, 29]            --\n",
       "│    │    └─ConvBlock: 3-7               [1, 32, 29, 29]           224\n",
       "├─Inception_Block: 1-9                   [1, 256, 29, 29]          --\n",
       "│    └─ConvBlock: 2-5                    [1, 64, 29, 29]           --\n",
       "│    │    └─Conv2d: 3-8                  [1, 64, 29, 29]           16,448\n",
       "│    └─Sequential: 2-6                   [1, 128, 29, 29]          --\n",
       "│    │    └─ConvBlock: 3-9               [1, 96, 29, 29]           24,672\n",
       "│    │    └─ConvBlock: 3-10              [1, 128, 29, 29]          110,720\n",
       "│    └─Sequential: 2-7                   [1, 32, 29, 29]           --\n",
       "│    │    └─ConvBlock: 3-11              [1, 16, 29, 29]           4,112\n",
       "│    │    └─ConvBlock: 3-12              [1, 32, 29, 29]           12,832\n",
       "│    └─Sequential: 2-8                   [1, 32, 29, 29]           --\n",
       "│    │    └─MaxPool2d: 3-13              [1, 256, 29, 29]          --\n",
       "│    │    └─ConvBlock: 3-14              [1, 32, 29, 29]           8,224\n",
       "├─MaxPool2d: 1-10                        [1, 256, 14, 14]          --\n",
       "├─Inception_Block: 1-11                  [1, 256, 14, 14]          --\n",
       "│    └─ConvBlock: 2-9                    [1, 64, 14, 14]           --\n",
       "│    │    └─Conv2d: 3-15                 [1, 64, 14, 14]           16,448\n",
       "│    └─Sequential: 2-10                  [1, 128, 14, 14]          --\n",
       "│    │    └─ConvBlock: 3-16              [1, 96, 14, 14]           24,672\n",
       "│    │    └─ConvBlock: 3-17              [1, 128, 14, 14]          110,720\n",
       "│    └─Sequential: 2-11                  [1, 32, 14, 14]           --\n",
       "│    │    └─ConvBlock: 3-18              [1, 16, 14, 14]           4,112\n",
       "│    │    └─ConvBlock: 3-19              [1, 32, 14, 14]           12,832\n",
       "│    └─Sequential: 2-12                  [1, 32, 14, 14]           --\n",
       "│    │    └─MaxPool2d: 3-20              [1, 256, 14, 14]          --\n",
       "│    │    └─ConvBlock: 3-21              [1, 32, 14, 14]           8,224\n",
       "==========================================================================================\n",
       "Total params: 480,062\n",
       "Trainable params: 480,062\n",
       "Non-trainable params: 0\n",
       "Total mult-adds (M): 296.05\n",
       "==========================================================================================\n",
       "Input size (MB): 0.26\n",
       "Forward/backward pass size (MB): 6.82\n",
       "Params size (MB): 1.92\n",
       "Estimated Total Size (MB): 9.00\n",
       "=========================================================================================="
      ]
     },
     "execution_count": 36,
     "metadata": {},
     "output_type": "execute_result"
    }
   ],
   "source": [
    "summary(model_x, input_size=(1, 1,256,256))"
   ]
  },
  {
   "cell_type": "code",
   "execution_count": 33,
   "metadata": {},
   "outputs": [
    {
     "name": "stdout",
     "output_type": "stream",
     "text": [
      "Inception 3a Dimensions: torch.Size([1, 256, 29, 29])\n",
      "Inception 3b Dimensions: torch.Size([1, 256, 29, 29])\n",
      "Output after MaxPool: torch.Size([1, 256, 14, 14])\n",
      "Inception 4a Dimensions: torch.Size([1, 256, 14, 14])\n"
     ]
    }
   ],
   "source": [
    "inception3a = Inception_Block(in_channels=6,output_1x1=64, output_1x1_block2=96, output_3x3=128, output_5x5_reduce=16, output_5x5= 32, output_pool=32)\n",
    "output3a = inception3a(output)\n",
    "print(f'Inception 3a Dimensions: {output3a.shape}')\n",
    "inception3b = Inception_Block(in_channels=256,output_1x1=64, output_1x1_block2=96, output_3x3=128, output_5x5_reduce=16, output_5x5= 32, output_pool=32)\n",
    "output3b = inception3b(output3a)\n",
    "print(f'Inception 3b Dimensions: {output3b.shape}')\n",
    "pool = nn.MaxPool2d(stride=2, kernel_size=3)\n",
    "max_pool_output = pool(output3b)\n",
    "print(f'Output after MaxPool: {max_pool_output.shape}')\n",
    "inception4a = Inception_Block(in_channels=256,output_1x1=64, output_1x1_block2=96, output_3x3=128, output_5x5_reduce=16, output_5x5= 32, output_pool=32)\n",
    "output4a = inception4a(max_pool_output)\n",
    "print(f'Inception 4a Dimensions: {output4a.shape}')"
   ]
  },
  {
   "cell_type": "code",
   "execution_count": 56,
   "metadata": {},
   "outputs": [],
   "source": [
    "class combineXY(nn.Module):\n",
    "    def __init__(self):\n",
    "        super(combineXY, self).__init__()\n",
    "        self.x_model = x_model()\n",
    "        self.y_model = x_model()\n",
    "        # concatenating both models gives us channels of 512\n",
    "        self.final_inception = Inception_Block(in_channels=512,output_1x1=64, output_1x1_block2=96, output_3x3=128, output_5x5_reduce=16, output_5x5= 32, output_pool=32)\n",
    "        self.avg_pooling = nn.AvgPool2d(kernel_size=(6,5))\n",
    "        # self.softmax = nn.Softmax(dim=2)\n",
    "    def forward(self, x_data, y_data):\n",
    "        x = self.x_model(x_data)\n",
    "        y = self.y_model(y_data)\n",
    "        concat =  torch.cat([x, y], dim  = 1)\n",
    "        combined_data = self.final_inception(concat)\n",
    "        combined_data = self.avg_pooling(combined_data)\n",
    "        #combined_data = self.softmax(combined_data)\n",
    "        return combined_data\n",
    "        return 0"
   ]
  },
  {
   "cell_type": "code",
   "execution_count": 58,
   "metadata": {},
   "outputs": [],
   "source": [
    "x_hep_data = torch.randn(1,1, 256, 256)\n",
    "y_hep_data = torch.randn(1,1, 256, 256)\n",
    "\n",
    "combined_model = combineXY()\n",
    "output_combined = combined_model(x_hep_data, y_hep_data)"
   ]
  },
  {
   "cell_type": "code",
   "execution_count": 59,
   "metadata": {},
   "outputs": [
    {
     "data": {
      "text/plain": [
       "torch.Size([1, 256, 2, 2])"
      ]
     },
     "execution_count": 59,
     "metadata": {},
     "output_type": "execute_result"
    }
   ],
   "source": [
    "output_combined.shape"
   ]
  },
  {
   "cell_type": "code",
   "execution_count": 44,
   "metadata": {},
   "outputs": [
    {
     "data": {
      "text/plain": [
       "==========================================================================================\n",
       "Layer (type:depth-idx)                   Output Shape              Param #\n",
       "==========================================================================================\n",
       "combineXY                                [1, 512, 14, 14]          --\n",
       "├─x_model: 1-1                           [1, 256, 14, 14]          --\n",
       "│    └─Conv2d: 2-1                       [1, 6, 125, 125]          300\n",
       "│    └─MaxPool2d: 2-2                    [1, 6, 62, 62]            --\n",
       "│    └─LocalResponseNorm: 2-3            [1, 6, 62, 62]            --\n",
       "│    └─Conv2d: 2-4                       [1, 12, 62, 62]           84\n",
       "│    └─Conv2d: 2-5                       [1, 6, 60, 60]            654\n",
       "│    └─LocalResponseNorm: 2-6            [1, 6, 60, 60]            --\n",
       "│    └─MaxPool2d: 2-7                    [1, 6, 29, 29]            --\n",
       "│    └─Inception_Block: 2-8              [1, 256, 29, 29]          --\n",
       "│    │    └─ConvBlock: 3-1               [1, 64, 29, 29]           448\n",
       "│    │    └─Sequential: 3-2              [1, 128, 29, 29]          111,392\n",
       "│    │    └─Sequential: 3-3              [1, 32, 29, 29]           12,944\n",
       "│    │    └─Sequential: 3-4              [1, 32, 29, 29]           224\n",
       "│    └─Inception_Block: 2-9              [1, 256, 29, 29]          --\n",
       "│    │    └─ConvBlock: 3-5               [1, 64, 29, 29]           16,448\n",
       "│    │    └─Sequential: 3-6              [1, 128, 29, 29]          135,392\n",
       "│    │    └─Sequential: 3-7              [1, 32, 29, 29]           16,944\n",
       "│    │    └─Sequential: 3-8              [1, 32, 29, 29]           8,224\n",
       "│    └─MaxPool2d: 2-10                   [1, 256, 14, 14]          --\n",
       "│    └─Inception_Block: 2-11             [1, 256, 14, 14]          --\n",
       "│    │    └─ConvBlock: 3-9               [1, 64, 14, 14]           16,448\n",
       "│    │    └─Sequential: 3-10             [1, 128, 14, 14]          135,392\n",
       "│    │    └─Sequential: 3-11             [1, 32, 14, 14]           16,944\n",
       "│    │    └─Sequential: 3-12             [1, 32, 14, 14]           8,224\n",
       "├─x_model: 1-2                           [1, 256, 14, 14]          --\n",
       "│    └─Conv2d: 2-12                      [1, 6, 125, 125]          300\n",
       "│    └─MaxPool2d: 2-13                   [1, 6, 62, 62]            --\n",
       "│    └─LocalResponseNorm: 2-14           [1, 6, 62, 62]            --\n",
       "│    └─Conv2d: 2-15                      [1, 12, 62, 62]           84\n",
       "│    └─Conv2d: 2-16                      [1, 6, 60, 60]            654\n",
       "│    └─LocalResponseNorm: 2-17           [1, 6, 60, 60]            --\n",
       "│    └─MaxPool2d: 2-18                   [1, 6, 29, 29]            --\n",
       "│    └─Inception_Block: 2-19             [1, 256, 29, 29]          --\n",
       "│    │    └─ConvBlock: 3-13              [1, 64, 29, 29]           448\n",
       "│    │    └─Sequential: 3-14             [1, 128, 29, 29]          111,392\n",
       "│    │    └─Sequential: 3-15             [1, 32, 29, 29]           12,944\n",
       "│    │    └─Sequential: 3-16             [1, 32, 29, 29]           224\n",
       "│    └─Inception_Block: 2-20             [1, 256, 29, 29]          --\n",
       "│    │    └─ConvBlock: 3-17              [1, 64, 29, 29]           16,448\n",
       "│    │    └─Sequential: 3-18             [1, 128, 29, 29]          135,392\n",
       "│    │    └─Sequential: 3-19             [1, 32, 29, 29]           16,944\n",
       "│    │    └─Sequential: 3-20             [1, 32, 29, 29]           8,224\n",
       "│    └─MaxPool2d: 2-21                   [1, 256, 14, 14]          --\n",
       "│    └─Inception_Block: 2-22             [1, 256, 14, 14]          --\n",
       "│    │    └─ConvBlock: 3-21              [1, 64, 14, 14]           16,448\n",
       "│    │    └─Sequential: 3-22             [1, 128, 14, 14]          135,392\n",
       "│    │    └─Sequential: 3-23             [1, 32, 14, 14]           16,944\n",
       "│    │    └─Sequential: 3-24             [1, 32, 14, 14]           8,224\n",
       "==========================================================================================\n",
       "Total params: 960,124\n",
       "Trainable params: 960,124\n",
       "Non-trainable params: 0\n",
       "Total mult-adds (M): 592.11\n",
       "==========================================================================================\n",
       "Input size (MB): 0.52\n",
       "Forward/backward pass size (MB): 13.64\n",
       "Params size (MB): 3.84\n",
       "Estimated Total Size (MB): 18.01\n",
       "=========================================================================================="
      ]
     },
     "execution_count": 44,
     "metadata": {},
     "output_type": "execute_result"
    }
   ],
   "source": [
    "summary(combined_model, input_size=[(1, 1,256,256),(1, 1,256,256)])"
   ]
  },
  {
   "cell_type": "code",
   "execution_count": null,
   "metadata": {},
   "outputs": [],
   "source": []
  }
 ],
 "metadata": {
  "kernelspec": {
   "display_name": "myenv",
   "language": "python",
   "name": "python3"
  },
  "language_info": {
   "codemirror_mode": {
    "name": "ipython",
    "version": 3
   },
   "file_extension": ".py",
   "mimetype": "text/x-python",
   "name": "python",
   "nbconvert_exporter": "python",
   "pygments_lexer": "ipython3",
   "version": "3.9.7"
  },
  "orig_nbformat": 4
 },
 "nbformat": 4,
 "nbformat_minor": 2
}
